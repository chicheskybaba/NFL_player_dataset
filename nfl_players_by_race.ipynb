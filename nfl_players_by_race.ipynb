{
 "cells": [
  {
   "cell_type": "markdown",
   "metadata": {
    "_uuid": "394626b22877811ebfc7071f68646563d08aeac6"
   },
   "source": [
    "## **NFL PLAYERS BY RACE (BY HOME COUNTRY CLASSIFICATION)** <a id=\"1\"></a>"
   ]
  },
  {
   "cell_type": "markdown",
   "metadata": {},
   "source": [
    "<a><img style=\"float: right;\" src=\"https://www.linkpicture.com/q/nfl_1.jpg\" width=\"300\" /></a>\n",
    " \n",
    "\n"
   ]
  },
  {
   "cell_type": "markdown",
   "metadata": {},
   "source": [
    "- Dataset source: https://www.kaggle.com/datasets/toddsteussie/nfl-play-statistics-dataset-2004-to-present"
   ]
  },
  {
   "cell_type": "markdown",
   "metadata": {},
   "source": [
    "### Notebook Preparation <a id=\"1.2\"></a>"
   ]
  },
  {
   "cell_type": "markdown",
   "metadata": {},
   "source": [
    "This part of the notebook deals with the relevant library import and visual configuration."
   ]
  },
  {
   "cell_type": "code",
   "execution_count": 158,
   "metadata": {
    "_kg_hide-input": true
   },
   "outputs": [],
   "source": [
    "# Import libraries\n",
    "\n",
    "import pandas as pd\n",
    "import numpy as np \n",
    "from scipy import stats\n",
    "\n",
    "import matplotlib.pyplot as plt\n",
    "import seaborn as sns\n",
    "import plotly\n",
    "import plotly.graph_objects as go\n",
    "import plotly.express as px\n",
    "\n",
    "from sklearn.preprocessing import StandardScaler\n",
    "\n",
    "from sklearn.cluster import KMeans\n",
    "from scipy.cluster.hierarchy import linkage\n",
    "from scipy.cluster.hierarchy import dendrogram\n",
    "from sklearn.metrics import silhouette_samples, silhouette_score"
   ]
  },
  {
   "cell_type": "code",
   "execution_count": 159,
   "metadata": {
    "_kg_hide-input": true
   },
   "outputs": [],
   "source": [
    "# Set notebook options\n",
    "\n",
    "pd.options.display.max_columns = 30\n",
    "\n",
    "import warnings\n",
    "warnings.filterwarnings(\"ignore\")"
   ]
  },
  {
   "cell_type": "markdown",
   "metadata": {
    "_uuid": "a95a91a1a31bcd4f79200c6ad21eb0163a9e780c"
   },
   "source": [
    "## **2. Data Preparation** <a id=\"2\"></a>"
   ]
  },
  {
   "cell_type": "markdown",
   "metadata": {},
   "source": [
    "The below section provides an initial exploration of the data."
   ]
  },
  {
   "cell_type": "code",
   "execution_count": 160,
   "metadata": {
    "_kg_hide-input": true,
    "_uuid": "01bb8d38ec581110eb3954352317ef9149f9d787"
   },
   "outputs": [
    {
     "data": {
      "text/html": [
       "<div>\n",
       "<style scoped>\n",
       "    .dataframe tbody tr th:only-of-type {\n",
       "        vertical-align: middle;\n",
       "    }\n",
       "\n",
       "    .dataframe tbody tr th {\n",
       "        vertical-align: top;\n",
       "    }\n",
       "\n",
       "    .dataframe thead th {\n",
       "        text-align: right;\n",
       "    }\n",
       "</style>\n",
       "<table border=\"1\" class=\"dataframe\">\n",
       "  <thead>\n",
       "    <tr style=\"text-align: right;\">\n",
       "      <th></th>\n",
       "      <th>playerId</th>\n",
       "      <th>nameFirst</th>\n",
       "      <th>nameLast</th>\n",
       "      <th>nameFull</th>\n",
       "      <th>position</th>\n",
       "      <th>collegeId</th>\n",
       "      <th>nflId</th>\n",
       "      <th>combineId</th>\n",
       "      <th>college</th>\n",
       "      <th>heightInches</th>\n",
       "      <th>weight</th>\n",
       "      <th>dob</th>\n",
       "      <th>ageAtDraft</th>\n",
       "      <th>playerProfileUrl</th>\n",
       "      <th>homeCity</th>\n",
       "      <th>homeState</th>\n",
       "      <th>homeCountry</th>\n",
       "      <th>highSchool</th>\n",
       "      <th>hsCity</th>\n",
       "      <th>hsState</th>\n",
       "      <th>hsCountry</th>\n",
       "    </tr>\n",
       "  </thead>\n",
       "  <tbody>\n",
       "    <tr>\n",
       "      <th>0</th>\n",
       "      <td>19770001</td>\n",
       "      <td>Ricky</td>\n",
       "      <td>Bell</td>\n",
       "      <td>Ricky Bell</td>\n",
       "      <td>RB</td>\n",
       "      <td>90089</td>\n",
       "      <td>2509366</td>\n",
       "      <td>NaN</td>\n",
       "      <td>USC</td>\n",
       "      <td>74.0</td>\n",
       "      <td>220.0</td>\n",
       "      <td>1955-04-08</td>\n",
       "      <td>22.084932</td>\n",
       "      <td>http://www.nfl.com/player/RickyBell/2509366/pr...</td>\n",
       "      <td>Houston</td>\n",
       "      <td>TX</td>\n",
       "      <td>USA</td>\n",
       "      <td>NaN</td>\n",
       "      <td>NaN</td>\n",
       "      <td>NaN</td>\n",
       "      <td>NaN</td>\n",
       "    </tr>\n",
       "    <tr>\n",
       "      <th>1</th>\n",
       "      <td>19770002</td>\n",
       "      <td>Tony</td>\n",
       "      <td>Dorsett</td>\n",
       "      <td>Tony Dorsett</td>\n",
       "      <td>RB</td>\n",
       "      <td>15260</td>\n",
       "      <td>2513084</td>\n",
       "      <td>NaN</td>\n",
       "      <td>Pittsburgh</td>\n",
       "      <td>71.0</td>\n",
       "      <td>192.0</td>\n",
       "      <td>1954-04-07</td>\n",
       "      <td>23.087671</td>\n",
       "      <td>http://www.nfl.com/player/TonyDorsett/2513084/...</td>\n",
       "      <td>Rochester</td>\n",
       "      <td>PA</td>\n",
       "      <td>USA</td>\n",
       "      <td>NaN</td>\n",
       "      <td>NaN</td>\n",
       "      <td>NaN</td>\n",
       "      <td>NaN</td>\n",
       "    </tr>\n",
       "    <tr>\n",
       "      <th>2</th>\n",
       "      <td>19770003</td>\n",
       "      <td>Eddie</td>\n",
       "      <td>Edwards</td>\n",
       "      <td>Eddie Edwards</td>\n",
       "      <td>DE</td>\n",
       "      <td>33124</td>\n",
       "      <td>2513479</td>\n",
       "      <td>NaN</td>\n",
       "      <td>Miami (FL)</td>\n",
       "      <td>77.0</td>\n",
       "      <td>256.0</td>\n",
       "      <td>1954-04-25</td>\n",
       "      <td>23.038356</td>\n",
       "      <td>http://www.nfl.com/player/EddieEdwards/2513479...</td>\n",
       "      <td>Sumter</td>\n",
       "      <td>SC</td>\n",
       "      <td>USA</td>\n",
       "      <td>NaN</td>\n",
       "      <td>NaN</td>\n",
       "      <td>NaN</td>\n",
       "      <td>NaN</td>\n",
       "    </tr>\n",
       "    <tr>\n",
       "      <th>3</th>\n",
       "      <td>19770004</td>\n",
       "      <td>Marvin</td>\n",
       "      <td>Powell</td>\n",
       "      <td>Marvin Powell</td>\n",
       "      <td>OT</td>\n",
       "      <td>90089</td>\n",
       "      <td>2523462</td>\n",
       "      <td>NaN</td>\n",
       "      <td>USC</td>\n",
       "      <td>77.0</td>\n",
       "      <td>268.0</td>\n",
       "      <td>1955-08-30</td>\n",
       "      <td>21.690411</td>\n",
       "      <td>http://www.nfl.com/player/MarvinPowell/2523462...</td>\n",
       "      <td>Los Angeles</td>\n",
       "      <td>CA</td>\n",
       "      <td>USA</td>\n",
       "      <td>NaN</td>\n",
       "      <td>NaN</td>\n",
       "      <td>NaN</td>\n",
       "      <td>NaN</td>\n",
       "    </tr>\n",
       "    <tr>\n",
       "      <th>4</th>\n",
       "      <td>19770005</td>\n",
       "      <td>Gary</td>\n",
       "      <td>Jeter</td>\n",
       "      <td>Gary Jeter</td>\n",
       "      <td>DE</td>\n",
       "      <td>90089</td>\n",
       "      <td>2517530</td>\n",
       "      <td>NaN</td>\n",
       "      <td>USC</td>\n",
       "      <td>76.0</td>\n",
       "      <td>259.0</td>\n",
       "      <td>1955-01-24</td>\n",
       "      <td>22.287671</td>\n",
       "      <td>http://www.nfl.com/player/GaryJeter/2517530/pr...</td>\n",
       "      <td>Weirton</td>\n",
       "      <td>WV</td>\n",
       "      <td>USA</td>\n",
       "      <td>NaN</td>\n",
       "      <td>NaN</td>\n",
       "      <td>NaN</td>\n",
       "      <td>NaN</td>\n",
       "    </tr>\n",
       "  </tbody>\n",
       "</table>\n",
       "</div>"
      ],
      "text/plain": [
       "   playerId nameFirst nameLast       nameFull position  collegeId    nflId  \\\n",
       "0  19770001     Ricky     Bell     Ricky Bell       RB      90089  2509366   \n",
       "1  19770002      Tony  Dorsett   Tony Dorsett       RB      15260  2513084   \n",
       "2  19770003     Eddie  Edwards  Eddie Edwards       DE      33124  2513479   \n",
       "3  19770004    Marvin   Powell  Marvin Powell       OT      90089  2523462   \n",
       "4  19770005      Gary    Jeter     Gary Jeter       DE      90089  2517530   \n",
       "\n",
       "   combineId     college  heightInches  weight         dob  ageAtDraft  \\\n",
       "0        NaN         USC          74.0   220.0  1955-04-08   22.084932   \n",
       "1        NaN  Pittsburgh          71.0   192.0  1954-04-07   23.087671   \n",
       "2        NaN  Miami (FL)          77.0   256.0  1954-04-25   23.038356   \n",
       "3        NaN         USC          77.0   268.0  1955-08-30   21.690411   \n",
       "4        NaN         USC          76.0   259.0  1955-01-24   22.287671   \n",
       "\n",
       "                                    playerProfileUrl     homeCity homeState  \\\n",
       "0  http://www.nfl.com/player/RickyBell/2509366/pr...      Houston        TX   \n",
       "1  http://www.nfl.com/player/TonyDorsett/2513084/...    Rochester        PA   \n",
       "2  http://www.nfl.com/player/EddieEdwards/2513479...       Sumter        SC   \n",
       "3  http://www.nfl.com/player/MarvinPowell/2523462...  Los Angeles        CA   \n",
       "4  http://www.nfl.com/player/GaryJeter/2517530/pr...      Weirton        WV   \n",
       "\n",
       "  homeCountry highSchool hsCity hsState hsCountry  \n",
       "0         USA        NaN    NaN     NaN       NaN  \n",
       "1         USA        NaN    NaN     NaN       NaN  \n",
       "2         USA        NaN    NaN     NaN       NaN  \n",
       "3         USA        NaN    NaN     NaN       NaN  \n",
       "4         USA        NaN    NaN     NaN       NaN  "
      ]
     },
     "execution_count": 160,
     "metadata": {},
     "output_type": "execute_result"
    }
   ],
   "source": [
    "# Import the data as a DataFrame and check first 5 rows\n",
    "\n",
    "df = pd.read_csv('nfl_players_homecountry.csv')\n",
    "\n",
    "df.head(5)"
   ]
  },
  {
   "cell_type": "code",
   "execution_count": 161,
   "metadata": {},
   "outputs": [
    {
     "data": {
      "text/plain": [
       "(23295, 21)"
      ]
     },
     "execution_count": 161,
     "metadata": {},
     "output_type": "execute_result"
    }
   ],
   "source": [
    "# Let us count the number of records in the dataset.\n",
    "\n",
    "df.shape"
   ]
  },
  {
   "cell_type": "markdown",
   "metadata": {},
   "source": [
    "- There are 23,295 rows and 21 columns in the dataset."
   ]
  },
  {
   "cell_type": "code",
   "execution_count": 162,
   "metadata": {
    "_kg_hide-input": true,
    "_uuid": "38e354a2a8f38972e9eea009bfeaf62e29ca902a"
   },
   "outputs": [
    {
     "name": "stdout",
     "output_type": "stream",
     "text": [
      "<class 'pandas.core.frame.DataFrame'>\n",
      "RangeIndex: 23295 entries, 0 to 23294\n",
      "Data columns (total 21 columns):\n",
      " #   Column            Non-Null Count  Dtype  \n",
      "---  ------            --------------  -----  \n",
      " 0   playerId          23295 non-null  int64  \n",
      " 1   nameFirst         23295 non-null  object \n",
      " 2   nameLast          23295 non-null  object \n",
      " 3   nameFull          23295 non-null  object \n",
      " 4   position          23294 non-null  object \n",
      " 5   collegeId         23295 non-null  int64  \n",
      " 6   nflId             20959 non-null  object \n",
      " 7   combineId         10097 non-null  float64\n",
      " 8   college           23295 non-null  object \n",
      " 9   heightInches      20709 non-null  float64\n",
      " 10  weight            20709 non-null  float64\n",
      " 11  dob               20226 non-null  object \n",
      " 12  ageAtDraft        20226 non-null  float64\n",
      " 13  playerProfileUrl  20959 non-null  object \n",
      " 14  homeCity          15618 non-null  object \n",
      " 15  homeState         15231 non-null  object \n",
      " 16  homeCountry       15715 non-null  object \n",
      " 17  highSchool        7503 non-null   object \n",
      " 18  hsCity            4083 non-null   object \n",
      " 19  hsState           7448 non-null   object \n",
      " 20  hsCountry         7503 non-null   object \n",
      "dtypes: float64(4), int64(2), object(15)\n",
      "memory usage: 3.7+ MB\n"
     ]
    }
   ],
   "source": [
    "# Check data types and if any records are missing\n",
    "\n",
    "df.info()"
   ]
  },
  {
   "cell_type": "markdown",
   "metadata": {},
   "source": [
    "- Seems we have missing records in our datasets.\n",
    "- Let us count the number of missing records in each column."
   ]
  },
  {
   "cell_type": "code",
   "execution_count": 163,
   "metadata": {},
   "outputs": [
    {
     "data": {
      "text/plain": [
       "playerId                0\n",
       "nameFirst               0\n",
       "nameLast                0\n",
       "nameFull                0\n",
       "position                1\n",
       "collegeId               0\n",
       "nflId                2336\n",
       "combineId           13198\n",
       "college                 0\n",
       "heightInches         2586\n",
       "weight               2586\n",
       "dob                  3069\n",
       "ageAtDraft           3069\n",
       "playerProfileUrl     2336\n",
       "homeCity             7677\n",
       "homeState            8064\n",
       "homeCountry          7580\n",
       "highSchool          15792\n",
       "hsCity              19212\n",
       "hsState             15847\n",
       "hsCountry           15792\n",
       "dtype: int64"
      ]
     },
     "execution_count": 163,
     "metadata": {},
     "output_type": "execute_result"
    }
   ],
   "source": [
    "# Let us count the number of missing records in each column of our dataset.\n",
    "\n",
    "df.isnull().sum()"
   ]
  },
  {
   "cell_type": "markdown",
   "metadata": {},
   "source": [
    "- Obviously, we have some missing records in some columns of our dataset. However, we are only interested in the 'homeCountry' column. Unfortunately, there are  7580 missing 'homeCountry' records in the dataset. Let us delete the missing 'homeCountry' records to make our dataset clean for homecountry classification analysis."
   ]
  },
  {
   "cell_type": "code",
   "execution_count": 164,
   "metadata": {},
   "outputs": [],
   "source": [
    "# We are deleting rows with missing 'homeCountry' records\n",
    "\n",
    "df = df.dropna(subset=['homeCountry'])"
   ]
  },
  {
   "cell_type": "code",
   "execution_count": 165,
   "metadata": {},
   "outputs": [
    {
     "data": {
      "text/plain": [
       "playerId                0\n",
       "nameFirst               0\n",
       "nameLast                0\n",
       "nameFull                0\n",
       "position                1\n",
       "collegeId               0\n",
       "nflId                   7\n",
       "combineId            8127\n",
       "college                 0\n",
       "heightInches         1039\n",
       "weight               1039\n",
       "dob                    60\n",
       "ageAtDraft             60\n",
       "playerProfileUrl        7\n",
       "homeCity               97\n",
       "homeState             484\n",
       "homeCountry             0\n",
       "highSchool           9004\n",
       "hsCity              12160\n",
       "hsState              9051\n",
       "hsCountry            9004\n",
       "dtype: int64"
      ]
     },
     "execution_count": 165,
     "metadata": {},
     "output_type": "execute_result"
    }
   ],
   "source": [
    "# Let us check if we still have missing 'homeCountry' records in the NFL dataset.\n",
    "\n",
    "df.isnull().sum()"
   ]
  },
  {
   "cell_type": "markdown",
   "metadata": {},
   "source": [
    "- Great! No more missing record in 'homeCountry' column. Our dataset is clean, we can proceed with our data analysis.\n",
    "\n",
    "- Let us check the total records in the dataset after deleting the missing records."
   ]
  },
  {
   "cell_type": "code",
   "execution_count": 166,
   "metadata": {},
   "outputs": [
    {
     "data": {
      "text/plain": [
       "(15715, 21)"
      ]
     },
     "execution_count": 166,
     "metadata": {},
     "output_type": "execute_result"
    }
   ],
   "source": [
    "df.shape"
   ]
  },
  {
   "cell_type": "markdown",
   "metadata": {},
   "source": [
    "- We still have 15,715 rows and 21 columns in the dataset. Sizeably good for our home country analysis."
   ]
  },
  {
   "cell_type": "code",
   "execution_count": 167,
   "metadata": {},
   "outputs": [
    {
     "data": {
      "text/html": [
       "<div>\n",
       "<style scoped>\n",
       "    .dataframe tbody tr th:only-of-type {\n",
       "        vertical-align: middle;\n",
       "    }\n",
       "\n",
       "    .dataframe tbody tr th {\n",
       "        vertical-align: top;\n",
       "    }\n",
       "\n",
       "    .dataframe thead th {\n",
       "        text-align: right;\n",
       "    }\n",
       "</style>\n",
       "<table border=\"1\" class=\"dataframe\">\n",
       "  <thead>\n",
       "    <tr style=\"text-align: right;\">\n",
       "      <th></th>\n",
       "      <th>playerId</th>\n",
       "      <th>collegeId</th>\n",
       "      <th>combineId</th>\n",
       "      <th>heightInches</th>\n",
       "      <th>weight</th>\n",
       "      <th>ageAtDraft</th>\n",
       "    </tr>\n",
       "  </thead>\n",
       "  <tbody>\n",
       "    <tr>\n",
       "      <th>count</th>\n",
       "      <td>1.571500e+04</td>\n",
       "      <td>15715.000000</td>\n",
       "      <td>7588.000000</td>\n",
       "      <td>14676.000000</td>\n",
       "      <td>14676.000000</td>\n",
       "      <td>15655.000000</td>\n",
       "    </tr>\n",
       "    <tr>\n",
       "      <th>mean</th>\n",
       "      <td>2.002136e+07</td>\n",
       "      <td>54034.291441</td>\n",
       "      <td>15319.747364</td>\n",
       "      <td>73.815413</td>\n",
       "      <td>240.641455</td>\n",
       "      <td>22.814027</td>\n",
       "    </tr>\n",
       "    <tr>\n",
       "      <th>std</th>\n",
       "      <td>1.111284e+05</td>\n",
       "      <td>26608.539657</td>\n",
       "      <td>2866.791371</td>\n",
       "      <td>2.609287</td>\n",
       "      <td>44.742963</td>\n",
       "      <td>0.877432</td>\n",
       "    </tr>\n",
       "    <tr>\n",
       "      <th>min</th>\n",
       "      <td>1.977000e+07</td>\n",
       "      <td>1.000000</td>\n",
       "      <td>10000.000000</td>\n",
       "      <td>65.000000</td>\n",
       "      <td>142.000000</td>\n",
       "      <td>19.523288</td>\n",
       "    </tr>\n",
       "    <tr>\n",
       "      <th>25%</th>\n",
       "      <td>1.994005e+07</td>\n",
       "      <td>32306.000000</td>\n",
       "      <td>13018.750000</td>\n",
       "      <td>72.000000</td>\n",
       "      <td>203.000000</td>\n",
       "      <td>22.227397</td>\n",
       "    </tr>\n",
       "    <tr>\n",
       "      <th>50%</th>\n",
       "      <td>2.004023e+07</td>\n",
       "      <td>48824.000000</td>\n",
       "      <td>15487.500000</td>\n",
       "      <td>74.000000</td>\n",
       "      <td>234.000000</td>\n",
       "      <td>22.805479</td>\n",
       "    </tr>\n",
       "    <tr>\n",
       "      <th>75%</th>\n",
       "      <td>2.011071e+07</td>\n",
       "      <td>77843.000000</td>\n",
       "      <td>17607.250000</td>\n",
       "      <td>76.000000</td>\n",
       "      <td>275.000000</td>\n",
       "      <td>23.326027</td>\n",
       "    </tr>\n",
       "    <tr>\n",
       "      <th>max</th>\n",
       "      <td>2.019120e+07</td>\n",
       "      <td>99362.000000</td>\n",
       "      <td>20500.000000</td>\n",
       "      <td>82.000000</td>\n",
       "      <td>388.000000</td>\n",
       "      <td>34.326027</td>\n",
       "    </tr>\n",
       "  </tbody>\n",
       "</table>\n",
       "</div>"
      ],
      "text/plain": [
       "           playerId     collegeId     combineId  heightInches        weight  \\\n",
       "count  1.571500e+04  15715.000000   7588.000000  14676.000000  14676.000000   \n",
       "mean   2.002136e+07  54034.291441  15319.747364     73.815413    240.641455   \n",
       "std    1.111284e+05  26608.539657   2866.791371      2.609287     44.742963   \n",
       "min    1.977000e+07      1.000000  10000.000000     65.000000    142.000000   \n",
       "25%    1.994005e+07  32306.000000  13018.750000     72.000000    203.000000   \n",
       "50%    2.004023e+07  48824.000000  15487.500000     74.000000    234.000000   \n",
       "75%    2.011071e+07  77843.000000  17607.250000     76.000000    275.000000   \n",
       "max    2.019120e+07  99362.000000  20500.000000     82.000000    388.000000   \n",
       "\n",
       "         ageAtDraft  \n",
       "count  15655.000000  \n",
       "mean      22.814027  \n",
       "std        0.877432  \n",
       "min       19.523288  \n",
       "25%       22.227397  \n",
       "50%       22.805479  \n",
       "75%       23.326027  \n",
       "max       34.326027  "
      ]
     },
     "execution_count": 167,
     "metadata": {},
     "output_type": "execute_result"
    }
   ],
   "source": [
    "# Let us view some basic statistical information about our cleaned NFL dataset.\n",
    "\n",
    "df.describe()"
   ]
  },
  {
   "cell_type": "markdown",
   "metadata": {},
   "source": [
    "- Maximum height of NFL player in our dataset = 82 inches\n",
    "- Lowest height of NFL player in our dataset = 65 inches\n",
    "- Average height of NFL players in our dataset = 73.81 inches"
   ]
  },
  {
   "cell_type": "markdown",
   "metadata": {},
   "source": [
    "## HomeCountry Exploration <a id=\"3\"></a>"
   ]
  },
  {
   "cell_type": "code",
   "execution_count": 168,
   "metadata": {},
   "outputs": [],
   "source": [
    "# import libraries\n",
    "\n",
    "import matplotlib.pyplot as plt\n",
    "import pandas as pd\n",
    "import numpy as np\n",
    "import seaborn as sns"
   ]
  },
  {
   "cell_type": "code",
   "execution_count": 169,
   "metadata": {},
   "outputs": [
    {
     "data": {
      "text/plain": [
       "Iran                    1\n",
       "Marshall Islands        1\n",
       "Thailand                1\n",
       "Belgium                 1\n",
       "Kenya                   1\n",
       "                    ...  \n",
       "Nigeria                36\n",
       "Jamaica                49\n",
       "Germany                77\n",
       "Canada                 87\n",
       "USA                 15235\n",
       "Name: homeCountry, Length: 70, dtype: int64"
      ]
     },
     "execution_count": 169,
     "metadata": {},
     "output_type": "execute_result"
    }
   ],
   "source": [
    "# Let us count the number of unique countries and the respective number of players.\n",
    "\n",
    "df['homeCountry'].value_counts(ascending=True)"
   ]
  },
  {
   "cell_type": "markdown",
   "metadata": {},
   "source": [
    "- There are 70 unique homeCountry.\n",
    "- Let us again count the number of unique homeCountry in the dataset using 'groupby' method."
   ]
  },
  {
   "cell_type": "code",
   "execution_count": 170,
   "metadata": {},
   "outputs": [
    {
     "data": {
      "text/html": [
       "<div>\n",
       "<style scoped>\n",
       "    .dataframe tbody tr th:only-of-type {\n",
       "        vertical-align: middle;\n",
       "    }\n",
       "\n",
       "    .dataframe tbody tr th {\n",
       "        vertical-align: top;\n",
       "    }\n",
       "\n",
       "    .dataframe thead th {\n",
       "        text-align: right;\n",
       "    }\n",
       "</style>\n",
       "<table border=\"1\" class=\"dataframe\">\n",
       "  <thead>\n",
       "    <tr style=\"text-align: right;\">\n",
       "      <th></th>\n",
       "      <th>playerId</th>\n",
       "      <th>nameFirst</th>\n",
       "      <th>nameLast</th>\n",
       "      <th>nameFull</th>\n",
       "      <th>position</th>\n",
       "      <th>collegeId</th>\n",
       "      <th>nflId</th>\n",
       "      <th>combineId</th>\n",
       "      <th>college</th>\n",
       "      <th>heightInches</th>\n",
       "      <th>weight</th>\n",
       "      <th>dob</th>\n",
       "      <th>ageAtDraft</th>\n",
       "      <th>playerProfileUrl</th>\n",
       "      <th>homeCity</th>\n",
       "      <th>homeState</th>\n",
       "      <th>highSchool</th>\n",
       "      <th>hsCity</th>\n",
       "      <th>hsState</th>\n",
       "      <th>hsCountry</th>\n",
       "    </tr>\n",
       "    <tr>\n",
       "      <th>homeCountry</th>\n",
       "      <th></th>\n",
       "      <th></th>\n",
       "      <th></th>\n",
       "      <th></th>\n",
       "      <th></th>\n",
       "      <th></th>\n",
       "      <th></th>\n",
       "      <th></th>\n",
       "      <th></th>\n",
       "      <th></th>\n",
       "      <th></th>\n",
       "      <th></th>\n",
       "      <th></th>\n",
       "      <th></th>\n",
       "      <th></th>\n",
       "      <th></th>\n",
       "      <th></th>\n",
       "      <th></th>\n",
       "      <th></th>\n",
       "      <th></th>\n",
       "    </tr>\n",
       "  </thead>\n",
       "  <tbody>\n",
       "    <tr>\n",
       "      <th>Angola</th>\n",
       "      <td>1</td>\n",
       "      <td>1</td>\n",
       "      <td>1</td>\n",
       "      <td>1</td>\n",
       "      <td>1</td>\n",
       "      <td>1</td>\n",
       "      <td>1</td>\n",
       "      <td>0</td>\n",
       "      <td>1</td>\n",
       "      <td>1</td>\n",
       "      <td>1</td>\n",
       "      <td>1</td>\n",
       "      <td>1</td>\n",
       "      <td>1</td>\n",
       "      <td>0</td>\n",
       "      <td>0</td>\n",
       "      <td>1</td>\n",
       "      <td>1</td>\n",
       "      <td>0</td>\n",
       "      <td>1</td>\n",
       "    </tr>\n",
       "    <tr>\n",
       "      <th>Argentina</th>\n",
       "      <td>2</td>\n",
       "      <td>2</td>\n",
       "      <td>2</td>\n",
       "      <td>2</td>\n",
       "      <td>2</td>\n",
       "      <td>2</td>\n",
       "      <td>2</td>\n",
       "      <td>0</td>\n",
       "      <td>2</td>\n",
       "      <td>2</td>\n",
       "      <td>2</td>\n",
       "      <td>2</td>\n",
       "      <td>2</td>\n",
       "      <td>2</td>\n",
       "      <td>2</td>\n",
       "      <td>0</td>\n",
       "      <td>1</td>\n",
       "      <td>0</td>\n",
       "      <td>1</td>\n",
       "      <td>1</td>\n",
       "    </tr>\n",
       "    <tr>\n",
       "      <th>Australia</th>\n",
       "      <td>16</td>\n",
       "      <td>16</td>\n",
       "      <td>16</td>\n",
       "      <td>16</td>\n",
       "      <td>16</td>\n",
       "      <td>16</td>\n",
       "      <td>16</td>\n",
       "      <td>5</td>\n",
       "      <td>16</td>\n",
       "      <td>16</td>\n",
       "      <td>16</td>\n",
       "      <td>16</td>\n",
       "      <td>16</td>\n",
       "      <td>16</td>\n",
       "      <td>15</td>\n",
       "      <td>0</td>\n",
       "      <td>6</td>\n",
       "      <td>5</td>\n",
       "      <td>1</td>\n",
       "      <td>6</td>\n",
       "    </tr>\n",
       "    <tr>\n",
       "      <th>Bahamas</th>\n",
       "      <td>2</td>\n",
       "      <td>2</td>\n",
       "      <td>2</td>\n",
       "      <td>2</td>\n",
       "      <td>2</td>\n",
       "      <td>2</td>\n",
       "      <td>2</td>\n",
       "      <td>2</td>\n",
       "      <td>2</td>\n",
       "      <td>2</td>\n",
       "      <td>2</td>\n",
       "      <td>2</td>\n",
       "      <td>2</td>\n",
       "      <td>2</td>\n",
       "      <td>1</td>\n",
       "      <td>0</td>\n",
       "      <td>0</td>\n",
       "      <td>0</td>\n",
       "      <td>0</td>\n",
       "      <td>0</td>\n",
       "    </tr>\n",
       "    <tr>\n",
       "      <th>Barbados</th>\n",
       "      <td>4</td>\n",
       "      <td>4</td>\n",
       "      <td>4</td>\n",
       "      <td>4</td>\n",
       "      <td>4</td>\n",
       "      <td>4</td>\n",
       "      <td>4</td>\n",
       "      <td>1</td>\n",
       "      <td>4</td>\n",
       "      <td>4</td>\n",
       "      <td>4</td>\n",
       "      <td>4</td>\n",
       "      <td>4</td>\n",
       "      <td>4</td>\n",
       "      <td>2</td>\n",
       "      <td>0</td>\n",
       "      <td>0</td>\n",
       "      <td>0</td>\n",
       "      <td>0</td>\n",
       "      <td>0</td>\n",
       "    </tr>\n",
       "    <tr>\n",
       "      <th>...</th>\n",
       "      <td>...</td>\n",
       "      <td>...</td>\n",
       "      <td>...</td>\n",
       "      <td>...</td>\n",
       "      <td>...</td>\n",
       "      <td>...</td>\n",
       "      <td>...</td>\n",
       "      <td>...</td>\n",
       "      <td>...</td>\n",
       "      <td>...</td>\n",
       "      <td>...</td>\n",
       "      <td>...</td>\n",
       "      <td>...</td>\n",
       "      <td>...</td>\n",
       "      <td>...</td>\n",
       "      <td>...</td>\n",
       "      <td>...</td>\n",
       "      <td>...</td>\n",
       "      <td>...</td>\n",
       "      <td>...</td>\n",
       "    </tr>\n",
       "    <tr>\n",
       "      <th>Uganda</th>\n",
       "      <td>2</td>\n",
       "      <td>2</td>\n",
       "      <td>2</td>\n",
       "      <td>2</td>\n",
       "      <td>2</td>\n",
       "      <td>2</td>\n",
       "      <td>2</td>\n",
       "      <td>1</td>\n",
       "      <td>2</td>\n",
       "      <td>2</td>\n",
       "      <td>2</td>\n",
       "      <td>2</td>\n",
       "      <td>2</td>\n",
       "      <td>2</td>\n",
       "      <td>2</td>\n",
       "      <td>0</td>\n",
       "      <td>0</td>\n",
       "      <td>0</td>\n",
       "      <td>0</td>\n",
       "      <td>0</td>\n",
       "    </tr>\n",
       "    <tr>\n",
       "      <th>Ukraine</th>\n",
       "      <td>1</td>\n",
       "      <td>1</td>\n",
       "      <td>1</td>\n",
       "      <td>1</td>\n",
       "      <td>1</td>\n",
       "      <td>1</td>\n",
       "      <td>1</td>\n",
       "      <td>1</td>\n",
       "      <td>1</td>\n",
       "      <td>1</td>\n",
       "      <td>1</td>\n",
       "      <td>1</td>\n",
       "      <td>1</td>\n",
       "      <td>1</td>\n",
       "      <td>1</td>\n",
       "      <td>0</td>\n",
       "      <td>1</td>\n",
       "      <td>0</td>\n",
       "      <td>1</td>\n",
       "      <td>1</td>\n",
       "    </tr>\n",
       "    <tr>\n",
       "      <th>Yugoslavia</th>\n",
       "      <td>1</td>\n",
       "      <td>1</td>\n",
       "      <td>1</td>\n",
       "      <td>1</td>\n",
       "      <td>1</td>\n",
       "      <td>1</td>\n",
       "      <td>1</td>\n",
       "      <td>0</td>\n",
       "      <td>1</td>\n",
       "      <td>1</td>\n",
       "      <td>1</td>\n",
       "      <td>1</td>\n",
       "      <td>1</td>\n",
       "      <td>1</td>\n",
       "      <td>1</td>\n",
       "      <td>0</td>\n",
       "      <td>0</td>\n",
       "      <td>0</td>\n",
       "      <td>0</td>\n",
       "      <td>0</td>\n",
       "    </tr>\n",
       "    <tr>\n",
       "      <th>Zaire</th>\n",
       "      <td>3</td>\n",
       "      <td>3</td>\n",
       "      <td>3</td>\n",
       "      <td>3</td>\n",
       "      <td>3</td>\n",
       "      <td>3</td>\n",
       "      <td>3</td>\n",
       "      <td>2</td>\n",
       "      <td>3</td>\n",
       "      <td>3</td>\n",
       "      <td>3</td>\n",
       "      <td>3</td>\n",
       "      <td>3</td>\n",
       "      <td>3</td>\n",
       "      <td>2</td>\n",
       "      <td>0</td>\n",
       "      <td>0</td>\n",
       "      <td>0</td>\n",
       "      <td>0</td>\n",
       "      <td>0</td>\n",
       "    </tr>\n",
       "    <tr>\n",
       "      <th>Zimbabwe</th>\n",
       "      <td>1</td>\n",
       "      <td>1</td>\n",
       "      <td>1</td>\n",
       "      <td>1</td>\n",
       "      <td>1</td>\n",
       "      <td>1</td>\n",
       "      <td>1</td>\n",
       "      <td>1</td>\n",
       "      <td>1</td>\n",
       "      <td>1</td>\n",
       "      <td>1</td>\n",
       "      <td>1</td>\n",
       "      <td>1</td>\n",
       "      <td>1</td>\n",
       "      <td>1</td>\n",
       "      <td>0</td>\n",
       "      <td>1</td>\n",
       "      <td>1</td>\n",
       "      <td>1</td>\n",
       "      <td>1</td>\n",
       "    </tr>\n",
       "  </tbody>\n",
       "</table>\n",
       "<p>70 rows × 20 columns</p>\n",
       "</div>"
      ],
      "text/plain": [
       "             playerId  nameFirst  nameLast  nameFull  position  collegeId  \\\n",
       "homeCountry                                                                 \n",
       "Angola              1          1         1         1         1          1   \n",
       "Argentina           2          2         2         2         2          2   \n",
       "Australia          16         16        16        16        16         16   \n",
       "Bahamas             2          2         2         2         2          2   \n",
       "Barbados            4          4         4         4         4          4   \n",
       "...               ...        ...       ...       ...       ...        ...   \n",
       "Uganda              2          2         2         2         2          2   \n",
       "Ukraine             1          1         1         1         1          1   \n",
       "Yugoslavia          1          1         1         1         1          1   \n",
       "Zaire               3          3         3         3         3          3   \n",
       "Zimbabwe            1          1         1         1         1          1   \n",
       "\n",
       "             nflId  combineId  college  heightInches  weight  dob  ageAtDraft  \\\n",
       "homeCountry                                                                     \n",
       "Angola           1          0        1             1       1    1           1   \n",
       "Argentina        2          0        2             2       2    2           2   \n",
       "Australia       16          5       16            16      16   16          16   \n",
       "Bahamas          2          2        2             2       2    2           2   \n",
       "Barbados         4          1        4             4       4    4           4   \n",
       "...            ...        ...      ...           ...     ...  ...         ...   \n",
       "Uganda           2          1        2             2       2    2           2   \n",
       "Ukraine          1          1        1             1       1    1           1   \n",
       "Yugoslavia       1          0        1             1       1    1           1   \n",
       "Zaire            3          2        3             3       3    3           3   \n",
       "Zimbabwe         1          1        1             1       1    1           1   \n",
       "\n",
       "             playerProfileUrl  homeCity  homeState  highSchool  hsCity  \\\n",
       "homeCountry                                                              \n",
       "Angola                      1         0          0           1       1   \n",
       "Argentina                   2         2          0           1       0   \n",
       "Australia                  16        15          0           6       5   \n",
       "Bahamas                     2         1          0           0       0   \n",
       "Barbados                    4         2          0           0       0   \n",
       "...                       ...       ...        ...         ...     ...   \n",
       "Uganda                      2         2          0           0       0   \n",
       "Ukraine                     1         1          0           1       0   \n",
       "Yugoslavia                  1         1          0           0       0   \n",
       "Zaire                       3         2          0           0       0   \n",
       "Zimbabwe                    1         1          0           1       1   \n",
       "\n",
       "             hsState  hsCountry  \n",
       "homeCountry                      \n",
       "Angola             0          1  \n",
       "Argentina          1          1  \n",
       "Australia          1          6  \n",
       "Bahamas            0          0  \n",
       "Barbados           0          0  \n",
       "...              ...        ...  \n",
       "Uganda             0          0  \n",
       "Ukraine            1          1  \n",
       "Yugoslavia         0          0  \n",
       "Zaire              0          0  \n",
       "Zimbabwe           1          1  \n",
       "\n",
       "[70 rows x 20 columns]"
      ]
     },
     "execution_count": 170,
     "metadata": {},
     "output_type": "execute_result"
    }
   ],
   "source": [
    "# Group by homeCountry and count the number of unique homeCountry. \n",
    "\n",
    "df.groupby(['homeCountry']).count()"
   ]
  },
  {
   "cell_type": "markdown",
   "metadata": {},
   "source": [
    "- There are 70 unique homeCountries in our dataset. For the purpose of simplicity and clarity, Let us group these homeCountries into 20 groups as follows;\n",
    "\n",
    "- Group 1 = USA.\n",
    "- Group 2 = UK.\n",
    "- Group 3 = Italy. \n",
    "- Group 4 = Germany.\n",
    "- Group 5 = France.\n",
    "- Group 6 = Canada.\n",
    "- Group 7 = Netherlands.\n",
    "- Group 8 = Japan.\n",
    "- Group 9 = Brazil.\n",
    "- Group 10 = Jamaica.\n",
    "- Group 11 = Australia.\n",
    "- Group 12 = Spain.\n",
    "- Group 13 = Argentina.\n",
    "- Group 14 = Sweden.\n",
    "- Group 15 = Poland.\n",
    "- Group 16 = Norway.\n",
    "- Group 17 = Denmark.\n",
    "- Group 18 = Ghana.\n",
    "- Group 19 = Nigeria.\n",
    "- Group 20 = Rest of the World."
   ]
  },
  {
   "cell_type": "code",
   "execution_count": 171,
   "metadata": {},
   "outputs": [
    {
     "data": {
      "text/plain": [
       "15235"
      ]
     },
     "execution_count": 171,
     "metadata": {},
     "output_type": "execute_result"
    }
   ],
   "source": [
    " # Counting number of NFL players whose Home Country = USA\n",
    "\n",
    "usa = (df['homeCountry']=='USA').sum()\n",
    "usa"
   ]
  },
  {
   "cell_type": "code",
   "execution_count": 172,
   "metadata": {},
   "outputs": [
    {
     "data": {
      "text/plain": [
       "24"
      ]
     },
     "execution_count": 172,
     "metadata": {},
     "output_type": "execute_result"
    }
   ],
   "source": [
    " # Counting number of NFL players whose Home Country = UK\n",
    "\n",
    "uk = (df['homeCountry']=='UK').sum()\n",
    "uk"
   ]
  },
  {
   "cell_type": "code",
   "execution_count": 173,
   "metadata": {},
   "outputs": [
    {
     "data": {
      "text/plain": [
       "6"
      ]
     },
     "execution_count": 173,
     "metadata": {},
     "output_type": "execute_result"
    }
   ],
   "source": [
    " # Counting number of NFL players whose Home Country = Italy\n",
    "\n",
    "italy = (df['homeCountry']=='Italy').sum()\n",
    "italy"
   ]
  },
  {
   "cell_type": "code",
   "execution_count": 174,
   "metadata": {},
   "outputs": [
    {
     "data": {
      "text/plain": [
       "77"
      ]
     },
     "execution_count": 174,
     "metadata": {},
     "output_type": "execute_result"
    }
   ],
   "source": [
    " # Counting number of NFL players whose Home Country = Germany\n",
    "germany = (df['homeCountry']=='Germany').sum()\n",
    "germany"
   ]
  },
  {
   "cell_type": "code",
   "execution_count": 175,
   "metadata": {},
   "outputs": [
    {
     "data": {
      "text/plain": [
       "3"
      ]
     },
     "execution_count": 175,
     "metadata": {},
     "output_type": "execute_result"
    }
   ],
   "source": [
    " # Counting number of NFL players whose Home Country = France\n",
    "\n",
    "france = (df['homeCountry']=='France').sum()\n",
    "france"
   ]
  },
  {
   "cell_type": "code",
   "execution_count": 176,
   "metadata": {},
   "outputs": [
    {
     "data": {
      "text/plain": [
       "87"
      ]
     },
     "execution_count": 176,
     "metadata": {},
     "output_type": "execute_result"
    }
   ],
   "source": [
    " # Counting number of NFL players whose Home Country = Canada\n",
    "\n",
    "canada = (df['homeCountry']=='Canada').sum()\n",
    "canada"
   ]
  },
  {
   "cell_type": "code",
   "execution_count": 177,
   "metadata": {},
   "outputs": [
    {
     "data": {
      "text/plain": [
       "5"
      ]
     },
     "execution_count": 177,
     "metadata": {},
     "output_type": "execute_result"
    }
   ],
   "source": [
    " # Counting number of NFL players whose Home Country = Netherlands\n",
    "\n",
    "netherlands = (df['homeCountry']=='Netherlands').sum()\n",
    "netherlands"
   ]
  },
  {
   "cell_type": "code",
   "execution_count": 178,
   "metadata": {},
   "outputs": [
    {
     "data": {
      "text/plain": [
       "12"
      ]
     },
     "execution_count": 178,
     "metadata": {},
     "output_type": "execute_result"
    }
   ],
   "source": [
    " # Counting number of NFL players whose Home Country = Japan\n",
    "\n",
    "japan = (df['homeCountry']=='Japan').sum()\n",
    "japan"
   ]
  },
  {
   "cell_type": "code",
   "execution_count": 179,
   "metadata": {},
   "outputs": [
    {
     "data": {
      "text/plain": [
       "2"
      ]
     },
     "execution_count": 179,
     "metadata": {},
     "output_type": "execute_result"
    }
   ],
   "source": [
    " # Counting number of NFL players whose Home Country = Brazil\n",
    "\n",
    "brazil = (df['homeCountry']=='Brazil').sum()\n",
    "brazil"
   ]
  },
  {
   "cell_type": "code",
   "execution_count": 180,
   "metadata": {},
   "outputs": [
    {
     "data": {
      "text/plain": [
       "49"
      ]
     },
     "execution_count": 180,
     "metadata": {},
     "output_type": "execute_result"
    }
   ],
   "source": [
    "  # Counting number of NFL players whose Home Country = Jamaica\n",
    "\n",
    "jamaica = (df['homeCountry']=='Jamaica').sum()\n",
    "jamaica"
   ]
  },
  {
   "cell_type": "code",
   "execution_count": 181,
   "metadata": {},
   "outputs": [
    {
     "data": {
      "text/plain": [
       "16"
      ]
     },
     "execution_count": 181,
     "metadata": {},
     "output_type": "execute_result"
    }
   ],
   "source": [
    " # Counting number of NFL players whose Home Country = Australia\n",
    "\n",
    "australia = (df['homeCountry']=='Australia').sum()\n",
    "australia"
   ]
  },
  {
   "cell_type": "code",
   "execution_count": 182,
   "metadata": {},
   "outputs": [
    {
     "data": {
      "text/plain": [
       "3"
      ]
     },
     "execution_count": 182,
     "metadata": {},
     "output_type": "execute_result"
    }
   ],
   "source": [
    "  # Counting number of NFL players whose Home Country = Spain\n",
    "\n",
    "spain = (df['homeCountry']=='Spain').sum()\n",
    "spain"
   ]
  },
  {
   "cell_type": "code",
   "execution_count": 183,
   "metadata": {},
   "outputs": [
    {
     "data": {
      "text/plain": [
       "2"
      ]
     },
     "execution_count": 183,
     "metadata": {},
     "output_type": "execute_result"
    }
   ],
   "source": [
    "  # Counting number of NFL players whose Home Country = Argentina\n",
    "\n",
    "argentina = (df['homeCountry']=='Argentina').sum()\n",
    "argentina"
   ]
  },
  {
   "cell_type": "code",
   "execution_count": 184,
   "metadata": {},
   "outputs": [
    {
     "data": {
      "text/plain": [
       "5"
      ]
     },
     "execution_count": 184,
     "metadata": {},
     "output_type": "execute_result"
    }
   ],
   "source": [
    " # Counting number of NFL players whose Home Country = Sweden\n",
    "\n",
    "sweden = (df['homeCountry']=='Sweden').sum()\n",
    "sweden"
   ]
  },
  {
   "cell_type": "code",
   "execution_count": 185,
   "metadata": {},
   "outputs": [
    {
     "data": {
      "text/plain": [
       "3"
      ]
     },
     "execution_count": 185,
     "metadata": {},
     "output_type": "execute_result"
    }
   ],
   "source": [
    " # Counting number of NFL players whose Home Country = Poland\n",
    "\n",
    "poland = (df['homeCountry']=='Poland').sum()\n",
    "poland"
   ]
  },
  {
   "cell_type": "code",
   "execution_count": 186,
   "metadata": {},
   "outputs": [
    {
     "data": {
      "text/plain": [
       "4"
      ]
     },
     "execution_count": 186,
     "metadata": {},
     "output_type": "execute_result"
    }
   ],
   "source": [
    " # Counting number of NFL players whose Home Country = Norway\n",
    "\n",
    "norway = (df['homeCountry']=='Norway').sum()\n",
    "norway"
   ]
  },
  {
   "cell_type": "code",
   "execution_count": 187,
   "metadata": {},
   "outputs": [
    {
     "data": {
      "text/plain": [
       "2"
      ]
     },
     "execution_count": 187,
     "metadata": {},
     "output_type": "execute_result"
    }
   ],
   "source": [
    " # Counting number of NFL players whose Home Country = Denmark\n",
    "\n",
    "denmark = (df['homeCountry']=='Denmark').sum()\n",
    "denmark"
   ]
  },
  {
   "cell_type": "code",
   "execution_count": 188,
   "metadata": {},
   "outputs": [
    {
     "data": {
      "text/plain": [
       "5"
      ]
     },
     "execution_count": 188,
     "metadata": {},
     "output_type": "execute_result"
    }
   ],
   "source": [
    " # Counting number of NFL players whose Home Country = Ghana\n",
    "\n",
    "ghana = (df['homeCountry']=='Ghana').sum()\n",
    "ghana"
   ]
  },
  {
   "cell_type": "code",
   "execution_count": 189,
   "metadata": {},
   "outputs": [
    {
     "data": {
      "text/plain": [
       "36"
      ]
     },
     "execution_count": 189,
     "metadata": {},
     "output_type": "execute_result"
    }
   ],
   "source": [
    " # Counting number of NFL players whose Home Country = Nigeria\n",
    "\n",
    "nigeria = (df['homeCountry']=='Nigeria').sum()\n",
    "nigeria"
   ]
  },
  {
   "cell_type": "code",
   "execution_count": 190,
   "metadata": {},
   "outputs": [
    {
     "data": {
      "text/plain": [
       "139"
      ]
     },
     "execution_count": 190,
     "metadata": {},
     "output_type": "execute_result"
    }
   ],
   "source": [
    "  # Counting number of NFL players from the rest of the world\n",
    "\n",
    "rest_of_the_world = len(df['homeCountry']) - usa - uk - italy - germany - france - canada - netherlands - japan - brazil - jamaica - australia - spain - argentina - sweden - poland - norway - denmark - ghana - nigeria\n",
    "rest_of_the_world"
   ]
  },
  {
   "cell_type": "code",
   "execution_count": 191,
   "metadata": {},
   "outputs": [
    {
     "data": {
      "text/html": [
       "<div>\n",
       "<style scoped>\n",
       "    .dataframe tbody tr th:only-of-type {\n",
       "        vertical-align: middle;\n",
       "    }\n",
       "\n",
       "    .dataframe tbody tr th {\n",
       "        vertical-align: top;\n",
       "    }\n",
       "\n",
       "    .dataframe thead th {\n",
       "        text-align: right;\n",
       "    }\n",
       "</style>\n",
       "<table border=\"1\" class=\"dataframe\">\n",
       "  <thead>\n",
       "    <tr style=\"text-align: right;\">\n",
       "      <th></th>\n",
       "      <th>homeCountry</th>\n",
       "      <th>Number of NFL Players</th>\n",
       "    </tr>\n",
       "  </thead>\n",
       "  <tbody>\n",
       "    <tr>\n",
       "      <th>0</th>\n",
       "      <td>USA</td>\n",
       "      <td>15235</td>\n",
       "    </tr>\n",
       "    <tr>\n",
       "      <th>1</th>\n",
       "      <td>UK</td>\n",
       "      <td>24</td>\n",
       "    </tr>\n",
       "    <tr>\n",
       "      <th>2</th>\n",
       "      <td>Italy</td>\n",
       "      <td>6</td>\n",
       "    </tr>\n",
       "    <tr>\n",
       "      <th>3</th>\n",
       "      <td>Germany</td>\n",
       "      <td>77</td>\n",
       "    </tr>\n",
       "    <tr>\n",
       "      <th>4</th>\n",
       "      <td>France</td>\n",
       "      <td>3</td>\n",
       "    </tr>\n",
       "    <tr>\n",
       "      <th>5</th>\n",
       "      <td>Canada</td>\n",
       "      <td>87</td>\n",
       "    </tr>\n",
       "    <tr>\n",
       "      <th>6</th>\n",
       "      <td>Netherlands</td>\n",
       "      <td>5</td>\n",
       "    </tr>\n",
       "    <tr>\n",
       "      <th>7</th>\n",
       "      <td>Japan</td>\n",
       "      <td>12</td>\n",
       "    </tr>\n",
       "    <tr>\n",
       "      <th>8</th>\n",
       "      <td>Brazil</td>\n",
       "      <td>2</td>\n",
       "    </tr>\n",
       "    <tr>\n",
       "      <th>9</th>\n",
       "      <td>Jamaica</td>\n",
       "      <td>49</td>\n",
       "    </tr>\n",
       "    <tr>\n",
       "      <th>10</th>\n",
       "      <td>Australia</td>\n",
       "      <td>16</td>\n",
       "    </tr>\n",
       "    <tr>\n",
       "      <th>11</th>\n",
       "      <td>Spain</td>\n",
       "      <td>3</td>\n",
       "    </tr>\n",
       "    <tr>\n",
       "      <th>12</th>\n",
       "      <td>Argentina</td>\n",
       "      <td>2</td>\n",
       "    </tr>\n",
       "    <tr>\n",
       "      <th>13</th>\n",
       "      <td>Sweden</td>\n",
       "      <td>5</td>\n",
       "    </tr>\n",
       "    <tr>\n",
       "      <th>14</th>\n",
       "      <td>Poland</td>\n",
       "      <td>3</td>\n",
       "    </tr>\n",
       "    <tr>\n",
       "      <th>15</th>\n",
       "      <td>Norway</td>\n",
       "      <td>4</td>\n",
       "    </tr>\n",
       "    <tr>\n",
       "      <th>16</th>\n",
       "      <td>Denmark</td>\n",
       "      <td>2</td>\n",
       "    </tr>\n",
       "    <tr>\n",
       "      <th>17</th>\n",
       "      <td>Ghana</td>\n",
       "      <td>5</td>\n",
       "    </tr>\n",
       "    <tr>\n",
       "      <th>18</th>\n",
       "      <td>Nigeria</td>\n",
       "      <td>36</td>\n",
       "    </tr>\n",
       "    <tr>\n",
       "      <th>19</th>\n",
       "      <td>Rest of the World</td>\n",
       "      <td>139</td>\n",
       "    </tr>\n",
       "  </tbody>\n",
       "</table>\n",
       "</div>"
      ],
      "text/plain": [
       "          homeCountry  Number of NFL Players\n",
       "0                 USA                  15235\n",
       "1                  UK                     24\n",
       "2               Italy                      6\n",
       "3             Germany                     77\n",
       "4              France                      3\n",
       "5              Canada                     87\n",
       "6         Netherlands                      5\n",
       "7               Japan                     12\n",
       "8              Brazil                      2\n",
       "9             Jamaica                     49\n",
       "10          Australia                     16\n",
       "11              Spain                      3\n",
       "12          Argentina                      2\n",
       "13             Sweden                      5\n",
       "14             Poland                      3\n",
       "15             Norway                      4\n",
       "16            Denmark                      2\n",
       "17              Ghana                      5\n",
       "18            Nigeria                     36\n",
       "19  Rest of the World                    139"
      ]
     },
     "execution_count": 191,
     "metadata": {},
     "output_type": "execute_result"
    }
   ],
   "source": [
    "# Create a DataFrame based on the home country groupings created above\n",
    "dataframe = pd.DataFrame()\n",
    "\n",
    "# Add columns\n",
    "dataframe['homeCountry'] = ['USA', 'UK', 'Italy', 'Germany', 'France', 'Canada', 'Netherlands', 'Japan', 'Brazil', 'Jamaica', 'Australia', 'Spain', 'Argentina', 'Sweden', 'Poland', 'Norway', 'Denmark', 'Ghana', 'Nigeria', 'Rest of the World']\n",
    "dataframe['Number of NFL Players'] = [usa, uk, italy, germany, france, canada, netherlands, japan, brazil, jamaica, australia, spain, argentina, sweden, poland, norway, denmark, ghana, nigeria, rest_of_the_world]\n",
    "\n",
    "# Show DataFrame\n",
    "dataframe"
   ]
  },
  {
   "cell_type": "code",
   "execution_count": 201,
   "metadata": {},
   "outputs": [
    {
     "data": {
      "image/png": "[encoded data removed]",
      "text/plain": [
       "<Figure size 432x288 with 1 Axes>"
      ]
     },
     "metadata": {
      "needs_background": "light"
     },
     "output_type": "display_data"
    }
   ],
   "source": [
    "# Let us visualize the bar chart of NFL players and their homeCountry.\n",
    "\n",
    "x = dataframe[\"homeCountry\"]\n",
    "y = dataframe[\"Number of NFL Players\"]\n",
    "plt.bar(x,y,align='center') # A bar chart\n",
    "plt.xticks(rotation = 90)\n",
    "plt.xlabel('Home Country')\n",
    "plt.ylabel('Number of NFL Players')\n",
    "plt.show()"
   ]
  },
  {
   "cell_type": "code",
   "execution_count": 202,
   "metadata": {},
   "outputs": [
    {
     "data": {
      "image/png": "[encoded data removed]",
      "text/plain": [
       "<Figure size 432x288 with 1 Axes>"
      ]
     },
     "metadata": {},
     "output_type": "display_data"
    },
    {
     "data": {
      "text/plain": [
       "<Figure size 1440x1080 with 0 Axes>"
      ]
     },
     "metadata": {},
     "output_type": "display_data"
    }
   ],
   "source": [
    "# Let us plot pie chart\n",
    "# Pie chart, where the slices will be ordered and plotted counter-clockwise:\n",
    "\n",
    "labels = x = dataframe[\"homeCountry\"]\n",
    "data = dataframe[\"Number of NFL Players\"]\n",
    "\n",
    "\n",
    "fig1, ax1 = plt.subplots()\n",
    "ax1.pie(data, labels=labels, autopct='%1.1f%%',\n",
    "        shadow=True, startangle=90)\n",
    "fig = plt.figure(figsize =(20, 15))\n",
    "ax1.axis('equal')  # Equal aspect ratio ensures that pie is drawn as a circle.\n",
    "\n",
    "plt.show()"
   ]
  },
  {
   "cell_type": "code",
   "execution_count": null,
   "metadata": {},
   "outputs": [],
   "source": []
  },
  {
   "cell_type": "code",
   "execution_count": 203,
   "metadata": {},
   "outputs": [
    {
     "data": {
      "image/png": "[encoded data removed]",
      "text/plain": [
       "<Figure size 4320x1080 with 1 Axes>"
      ]
     },
     "metadata": {},
     "output_type": "display_data"
    }
   ],
   "source": [
    "# Import libraries\n",
    "# Let us plot a bigger view of pie chart for proper visibility\n",
    "\n",
    "from matplotlib import pyplot as plt\n",
    "import numpy as np\n",
    " \n",
    " \n",
    "# Creating dataset\n",
    "countries = x = dataframe[\"homeCountry\"]\n",
    " \n",
    "data = dataframe[\"Number of NFL Players\"]\n",
    " \n",
    "# Creating plot\n",
    "fig = plt.figure(figsize =(60, 15))\n",
    "plt.pie(data, labels = countries, autopct='%1.1f%%', startangle=15, shadow=True)\n",
    " \n",
    "# show plot\n",
    "plt.show()"
   ]
  },
  {
   "cell_type": "markdown",
   "metadata": {
    "_uuid": "bf35ab5be10e493878da61bd4d3f0b4b71d6c5b4"
   },
   "source": [
    "## **5. Conclusion** <a id=\"5\"></a>"
   ]
  },
  {
   "cell_type": "markdown",
   "metadata": {},
   "source": [
    "\n",
    "### With a total of 15715 NFL players in our dataset, the following table shows the percentages of NFL players based on their various home country groupings.\n",
    "\n",
    "- NFL players from USA represent 96.94% of the dataset\n",
    "- NFL players from UK represent 0.15% of the dataset\n",
    "- NFL players from Italy represent 0.04% of the dataset\n",
    "- NFL players from Germany represent 0.49% of the dataset\n",
    "- NFL players from France represent 0.02% of the dataset\n",
    "- NFL players from Canada represent 0.55% of the dataset\n",
    "- NFL players from Netherlands represent 0.03% of the dataset\n",
    "- NFL players from Japan represent 0.07% of the dataset\n",
    "- NFL players from Brazil represent 0.01% of the dataset\n",
    "- NFL players from Jamaica represent 0.31% of the dataset\n",
    "- NFL players from Australia represent 0.10% of the dataset\n",
    "- NFL players from Spain represent 0.02% of the dataset\n",
    "- NFL players from Argentina represent 0.01% of the dataset\n",
    "- NFL players from Sweden represent 0.03% of the dataset\n",
    "- NFL players from Poland represent 0.02% of the dataset\n",
    "- NFL players from Norway represent 0.03% of the dataset\n",
    "- NFL players from Denmark represent 0.01% of the dataset\n",
    "- NFL players from Ghana represent 0.03% of the dataset\n",
    "- NFL players from Nigeria represent 0.23% of the dataset\n",
    "- NFL players from Rest of the World represent 0.90% of the dataset"
   ]
  }
 ],
 "metadata": {
  "kernelspec": {
   "display_name": "Python 3 (ipykernel)",
   "language": "python",
   "name": "python3"
  },
  "language_info": {
   "codemirror_mode": {
    "name": "ipython",
    "version": 3
   },
   "file_extension": ".py",
   "mimetype": "text/x-python",
   "name": "python",
   "nbconvert_exporter": "python",
   "pygments_lexer": "ipython3",
   "version": "3.8.4"
  }
 },
 "nbformat": 4,
 "nbformat_minor": 4
}
